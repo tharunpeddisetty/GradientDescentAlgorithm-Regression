{
 "cells": [
  {
   "cell_type": "code",
   "execution_count": 820,
   "metadata": {},
   "outputs": [],
   "source": [
    "import numpy as np\n",
    "import pandas as pd \n",
    "import matplotlib.pyplot as plt"
   ]
  },
  {
   "cell_type": "code",
   "execution_count": 821,
   "metadata": {},
   "outputs": [],
   "source": [
    "data = pd.read_csv('SeoulBikeData.csv',encoding= 'unicode_escape')\n",
    "del data['Date']"
   ]
  },
  {
   "cell_type": "code",
   "execution_count": null,
   "metadata": {},
   "outputs": [],
   "source": [
    "#Finding number of classes for individual qualitative predictor\n",
    "print('Unique Classes in Seasons column:',data.Seasons.unique())\n",
    "print('Unique Classes in Holiday column:',data.Holiday.unique())\n",
    "print('Unique Classes in Functioning Day column:',data['Functioning Day'].unique())"
   ]
  },
  {
   "cell_type": "code",
   "execution_count": 822,
   "metadata": {},
   "outputs": [],
   "source": [
    "# Creating Dummy Variables for Qualitative Predictors\n",
    "SpringList=[0]*len(data)\n",
    "SummerList=[0]*len(data)\n",
    "AutumnList=[0]*len(data)\n",
    "\n",
    "Holiday = [0]*len(data)\n",
    "\n",
    "FunctioningDay = [0]*len(data)\n",
    "\n",
    "for i in range(len(data)):\n",
    "    if(data['Holiday'][i]=='Holiday'):\n",
    "        Holiday[i]=1\n",
    "    if(data['Functioning Day'][i]== 'Yes'):\n",
    "        FunctioningDay[i]=1\n",
    "    if(data['Seasons'][i]=='Spring'):\n",
    "        SpringList[i]=1\n",
    "    elif(data['Seasons'][i]=='Summer'):\n",
    "        SummerList[i]=1\n",
    "    elif(data['Seasons'][i]=='Autumn'):\n",
    "        AutumnList[i]=1"
   ]
  },
  {
   "cell_type": "code",
   "execution_count": 823,
   "metadata": {},
   "outputs": [],
   "source": [
    "data['Seasons_Spring'] = SpringList\n",
    "data['Seasons_Summer'] = SummerList\n",
    "data['Seasons_Autumn'] = AutumnList\n",
    "data['Holiday_Dummy'] = Holiday\n",
    "data['FunctioningDay'] = FunctioningDay\n",
    "\n",
    "del data['Seasons']\n",
    "del data['Holiday']\n",
    "del data['Functioning Day']"
   ]
  },
  {
   "cell_type": "code",
   "execution_count": null,
   "metadata": {},
   "outputs": [],
   "source": [
    "#Checking for null values\n",
    "data.isnull().sum()"
   ]
  },
  {
   "cell_type": "code",
   "execution_count": 886,
   "metadata": {},
   "outputs": [
    {
     "data": {
      "text/html": [
       "<div>\n",
       "<style scoped>\n",
       "    .dataframe tbody tr th:only-of-type {\n",
       "        vertical-align: middle;\n",
       "    }\n",
       "\n",
       "    .dataframe tbody tr th {\n",
       "        vertical-align: top;\n",
       "    }\n",
       "\n",
       "    .dataframe thead th {\n",
       "        text-align: right;\n",
       "    }\n",
       "</style>\n",
       "<table border=\"1\" class=\"dataframe\">\n",
       "  <thead>\n",
       "    <tr style=\"text-align: right;\">\n",
       "      <th></th>\n",
       "      <th>Rented Bike Count</th>\n",
       "      <th>Hour</th>\n",
       "      <th>Temperature(°C)</th>\n",
       "      <th>Humidity(%)</th>\n",
       "      <th>Wind speed (m/s)</th>\n",
       "      <th>Visibility (10m)</th>\n",
       "      <th>Dew point temperature(°C)</th>\n",
       "      <th>Solar Radiation (MJ/m2)</th>\n",
       "      <th>Rainfall(mm)</th>\n",
       "      <th>Snowfall (cm)</th>\n",
       "      <th>Seasons_Spring</th>\n",
       "      <th>Seasons_Summer</th>\n",
       "      <th>Seasons_Autumn</th>\n",
       "      <th>Holiday_Dummy</th>\n",
       "      <th>FunctioningDay</th>\n",
       "    </tr>\n",
       "  </thead>\n",
       "  <tbody>\n",
       "    <tr>\n",
       "      <th>count</th>\n",
       "      <td>8760.000000</td>\n",
       "      <td>8760.000000</td>\n",
       "      <td>8760.000000</td>\n",
       "      <td>8760.000000</td>\n",
       "      <td>8760.000000</td>\n",
       "      <td>8760.000000</td>\n",
       "      <td>8760.000000</td>\n",
       "      <td>8760.000000</td>\n",
       "      <td>8760.000000</td>\n",
       "      <td>8760.000000</td>\n",
       "      <td>8760.000000</td>\n",
       "      <td>8760.000000</td>\n",
       "      <td>8760.000000</td>\n",
       "      <td>8760.000000</td>\n",
       "      <td>8760.000000</td>\n",
       "    </tr>\n",
       "    <tr>\n",
       "      <th>mean</th>\n",
       "      <td>704.602055</td>\n",
       "      <td>11.500000</td>\n",
       "      <td>12.882922</td>\n",
       "      <td>58.226256</td>\n",
       "      <td>1.724909</td>\n",
       "      <td>1436.825799</td>\n",
       "      <td>4.073813</td>\n",
       "      <td>0.569111</td>\n",
       "      <td>0.148687</td>\n",
       "      <td>0.075068</td>\n",
       "      <td>0.252055</td>\n",
       "      <td>0.252055</td>\n",
       "      <td>0.249315</td>\n",
       "      <td>0.049315</td>\n",
       "      <td>0.966324</td>\n",
       "    </tr>\n",
       "    <tr>\n",
       "      <th>std</th>\n",
       "      <td>644.997468</td>\n",
       "      <td>6.922582</td>\n",
       "      <td>11.944825</td>\n",
       "      <td>20.362413</td>\n",
       "      <td>1.036300</td>\n",
       "      <td>608.298712</td>\n",
       "      <td>13.060369</td>\n",
       "      <td>0.868746</td>\n",
       "      <td>1.128193</td>\n",
       "      <td>0.436746</td>\n",
       "      <td>0.434217</td>\n",
       "      <td>0.434217</td>\n",
       "      <td>0.432641</td>\n",
       "      <td>0.216537</td>\n",
       "      <td>0.180404</td>\n",
       "    </tr>\n",
       "    <tr>\n",
       "      <th>min</th>\n",
       "      <td>0.000000</td>\n",
       "      <td>0.000000</td>\n",
       "      <td>-17.800000</td>\n",
       "      <td>0.000000</td>\n",
       "      <td>0.000000</td>\n",
       "      <td>27.000000</td>\n",
       "      <td>-30.600000</td>\n",
       "      <td>0.000000</td>\n",
       "      <td>0.000000</td>\n",
       "      <td>0.000000</td>\n",
       "      <td>0.000000</td>\n",
       "      <td>0.000000</td>\n",
       "      <td>0.000000</td>\n",
       "      <td>0.000000</td>\n",
       "      <td>0.000000</td>\n",
       "    </tr>\n",
       "    <tr>\n",
       "      <th>25%</th>\n",
       "      <td>191.000000</td>\n",
       "      <td>5.750000</td>\n",
       "      <td>3.500000</td>\n",
       "      <td>42.000000</td>\n",
       "      <td>0.900000</td>\n",
       "      <td>940.000000</td>\n",
       "      <td>-4.700000</td>\n",
       "      <td>0.000000</td>\n",
       "      <td>0.000000</td>\n",
       "      <td>0.000000</td>\n",
       "      <td>0.000000</td>\n",
       "      <td>0.000000</td>\n",
       "      <td>0.000000</td>\n",
       "      <td>0.000000</td>\n",
       "      <td>1.000000</td>\n",
       "    </tr>\n",
       "    <tr>\n",
       "      <th>50%</th>\n",
       "      <td>504.500000</td>\n",
       "      <td>11.500000</td>\n",
       "      <td>13.700000</td>\n",
       "      <td>57.000000</td>\n",
       "      <td>1.500000</td>\n",
       "      <td>1698.000000</td>\n",
       "      <td>5.100000</td>\n",
       "      <td>0.010000</td>\n",
       "      <td>0.000000</td>\n",
       "      <td>0.000000</td>\n",
       "      <td>0.000000</td>\n",
       "      <td>0.000000</td>\n",
       "      <td>0.000000</td>\n",
       "      <td>0.000000</td>\n",
       "      <td>1.000000</td>\n",
       "    </tr>\n",
       "    <tr>\n",
       "      <th>75%</th>\n",
       "      <td>1065.250000</td>\n",
       "      <td>17.250000</td>\n",
       "      <td>22.500000</td>\n",
       "      <td>74.000000</td>\n",
       "      <td>2.300000</td>\n",
       "      <td>2000.000000</td>\n",
       "      <td>14.800000</td>\n",
       "      <td>0.930000</td>\n",
       "      <td>0.000000</td>\n",
       "      <td>0.000000</td>\n",
       "      <td>1.000000</td>\n",
       "      <td>1.000000</td>\n",
       "      <td>0.000000</td>\n",
       "      <td>0.000000</td>\n",
       "      <td>1.000000</td>\n",
       "    </tr>\n",
       "    <tr>\n",
       "      <th>max</th>\n",
       "      <td>3556.000000</td>\n",
       "      <td>23.000000</td>\n",
       "      <td>39.400000</td>\n",
       "      <td>98.000000</td>\n",
       "      <td>7.400000</td>\n",
       "      <td>2000.000000</td>\n",
       "      <td>27.200000</td>\n",
       "      <td>3.520000</td>\n",
       "      <td>35.000000</td>\n",
       "      <td>8.800000</td>\n",
       "      <td>1.000000</td>\n",
       "      <td>1.000000</td>\n",
       "      <td>1.000000</td>\n",
       "      <td>1.000000</td>\n",
       "      <td>1.000000</td>\n",
       "    </tr>\n",
       "  </tbody>\n",
       "</table>\n",
       "</div>"
      ],
      "text/plain": [
       "       Rented Bike Count         Hour  Temperature(°C)  Humidity(%)  \\\n",
       "count        8760.000000  8760.000000      8760.000000  8760.000000   \n",
       "mean          704.602055    11.500000        12.882922    58.226256   \n",
       "std           644.997468     6.922582        11.944825    20.362413   \n",
       "min             0.000000     0.000000       -17.800000     0.000000   \n",
       "25%           191.000000     5.750000         3.500000    42.000000   \n",
       "50%           504.500000    11.500000        13.700000    57.000000   \n",
       "75%          1065.250000    17.250000        22.500000    74.000000   \n",
       "max          3556.000000    23.000000        39.400000    98.000000   \n",
       "\n",
       "       Wind speed (m/s)  Visibility (10m)  Dew point temperature(°C)  \\\n",
       "count       8760.000000       8760.000000                8760.000000   \n",
       "mean           1.724909       1436.825799                   4.073813   \n",
       "std            1.036300        608.298712                  13.060369   \n",
       "min            0.000000         27.000000                 -30.600000   \n",
       "25%            0.900000        940.000000                  -4.700000   \n",
       "50%            1.500000       1698.000000                   5.100000   \n",
       "75%            2.300000       2000.000000                  14.800000   \n",
       "max            7.400000       2000.000000                  27.200000   \n",
       "\n",
       "       Solar Radiation (MJ/m2)  Rainfall(mm)  Snowfall (cm)  Seasons_Spring  \\\n",
       "count              8760.000000   8760.000000    8760.000000     8760.000000   \n",
       "mean                  0.569111      0.148687       0.075068        0.252055   \n",
       "std                   0.868746      1.128193       0.436746        0.434217   \n",
       "min                   0.000000      0.000000       0.000000        0.000000   \n",
       "25%                   0.000000      0.000000       0.000000        0.000000   \n",
       "50%                   0.010000      0.000000       0.000000        0.000000   \n",
       "75%                   0.930000      0.000000       0.000000        1.000000   \n",
       "max                   3.520000     35.000000       8.800000        1.000000   \n",
       "\n",
       "       Seasons_Summer  Seasons_Autumn  Holiday_Dummy  FunctioningDay  \n",
       "count     8760.000000     8760.000000    8760.000000     8760.000000  \n",
       "mean         0.252055        0.249315       0.049315        0.966324  \n",
       "std          0.434217        0.432641       0.216537        0.180404  \n",
       "min          0.000000        0.000000       0.000000        0.000000  \n",
       "25%          0.000000        0.000000       0.000000        1.000000  \n",
       "50%          0.000000        0.000000       0.000000        1.000000  \n",
       "75%          1.000000        0.000000       0.000000        1.000000  \n",
       "max          1.000000        1.000000       1.000000        1.000000  "
      ]
     },
     "execution_count": 886,
     "metadata": {},
     "output_type": "execute_result"
    }
   ],
   "source": [
    "#Summary Statistics of the Data\n",
    "data.describe()"
   ]
  },
  {
   "cell_type": "code",
   "execution_count": 1378,
   "metadata": {},
   "outputs": [],
   "source": [
    "# Differentiating dependent and independent variables\n",
    "X = data.iloc[:,1:].values\n",
    "Y = data.iloc[:,0].values"
   ]
  },
  {
   "cell_type": "code",
   "execution_count": 1379,
   "metadata": {},
   "outputs": [],
   "source": [
    "from sklearn.model_selection import train_test_split\n",
    "X_train, X_test, Y_train, Y_test = train_test_split(X,Y,test_size=0.2,random_state=0)"
   ]
  },
  {
   "cell_type": "code",
   "execution_count": 1380,
   "metadata": {},
   "outputs": [
    {
     "data": {
      "text/plain": [
       "array([[15. ,  8.2, 62. , ...,  0. ,  0. ,  1. ],\n",
       "       [18. , 28.4, 57. , ...,  0. ,  0. ,  1. ],\n",
       "       [11. , 29.9, 57. , ...,  0. ,  0. ,  1. ],\n",
       "       ...,\n",
       "       [11. , 25.5, 57. , ...,  0. ,  0. ,  1. ],\n",
       "       [ 0. ,  8.3, 59. , ...,  0. ,  0. ,  1. ],\n",
       "       [20. ,  7.1, 83. , ...,  0. ,  0. ,  1. ]])"
      ]
     },
     "execution_count": 1380,
     "metadata": {},
     "output_type": "execute_result"
    }
   ],
   "source": [
    "X_train"
   ]
  },
  {
   "cell_type": "code",
   "execution_count": 849,
   "metadata": {},
   "outputs": [
    {
     "data": {
      "text/plain": [
       "array([[ 0.50774916, -0.38874606,  0.18996015, ..., -0.58042598,\n",
       "        -0.23202281,  0.18254726],\n",
       "       [ 0.9408263 ,  1.29850393, -0.05608294, ..., -0.58042598,\n",
       "        -0.23202281,  0.18254726],\n",
       "       [-0.06968702,  1.42379477, -0.05608294, ..., -0.58042598,\n",
       "        -0.23202281,  0.18254726],\n",
       "       ...,\n",
       "       [-0.06968702,  1.05627497, -0.05608294, ..., -0.58042598,\n",
       "        -0.23202281,  0.18254726],\n",
       "       [-1.65763652, -0.38039334,  0.0423343 , ..., -0.58042598,\n",
       "        -0.23202281,  0.18254726],\n",
       "       [ 1.22954439, -0.48062601,  1.22334111, ..., -0.58042598,\n",
       "        -0.23202281,  0.18254726]])"
      ]
     },
     "execution_count": 849,
     "metadata": {},
     "output_type": "execute_result"
    }
   ],
   "source": [
    "Feature_Scaling(X_train)\n",
    "X_train"
   ]
  },
  {
   "cell_type": "code",
   "execution_count": null,
   "metadata": {},
   "outputs": [],
   "source": []
  },
  {
   "cell_type": "markdown",
   "metadata": {},
   "source": [
    "# Gradeint Descent Logic"
   ]
  },
  {
   "cell_type": "code",
   "execution_count": 1297,
   "metadata": {},
   "outputs": [],
   "source": [
    "def Feature_Scaling(X):\n",
    "    mean=np.zeros(X.shape[1])\n",
    "    std=np.zeros(X.shape[1])\n",
    "    for col in range(X.shape[1]):\n",
    "        mean[col] = np.mean(X.transpose()[col])\n",
    "        std[col]=np.std(X.transpose()[col])\n",
    "\n",
    "        for row in range(X.shape[0]):\n",
    "            X[row][col] = (X[row][col] - mean[col]) / std[col]\n",
    "            \n",
    "    return X"
   ]
  },
  {
   "cell_type": "code",
   "execution_count": 1298,
   "metadata": {},
   "outputs": [],
   "source": [
    "def Cost_Function(beta,X,Y):\n",
    "    J=0\n",
    "    m = len(Y)\n",
    "    y_pred = np.dot(X,beta)\n",
    "    J = (1/(2*m)) * sum(np.square(y_pred-Y))\n",
    "    return J"
   ]
  },
  {
   "cell_type": "code",
   "execution_count": 1299,
   "metadata": {},
   "outputs": [],
   "source": [
    "def GradientDescent(X_train, Y_train , learning_rate, convergence):\n",
    "    \n",
    "    X_train=Feature_Scaling(X_train)\n",
    "    \n",
    "    np.random.seed(10)\n",
    "    beta = (np.random.sample(len(X_train[0])+1)*10).reshape(len(X_train[0])+1,1)\n",
    "    L = learning_rate\n",
    "    old_cost=0\n",
    "    Convergence_Criteria =1\n",
    "    #convergence = 0.01\n",
    "    CostList=[]\n",
    "\n",
    "    one_column = np.ones((X_train.shape[0],1))\n",
    "    X = np.concatenate((one_column, X_train), axis = 1)\n",
    "\n",
    "    Y = Y_train.reshape(len(Y_train),1)\n",
    "    m = len(Y)\n",
    "    \n",
    "    i=0\n",
    "    while(Convergence_Criteria>convergence):\n",
    "    #for i in range (500):\n",
    "        y_pred = np.dot(X,beta) # 7008x1 | Y=7008x1 \n",
    "\n",
    "        for j in range(X.shape[1]): #range = 0 to 15 [number of variables]\n",
    "            beta[j] = beta[j] - (L/m) * sum((y_pred - Y) * X.T[j].reshape(len(X.T[1]),1)) # Changing X shape into 7008X1\n",
    "\n",
    "        #print(beta[0])\n",
    "        cost = Cost_Function(beta,X,Y)\n",
    "        CostList.append(cost)\n",
    "        if(len(CostList)>1):\n",
    "            Convergence_Criteria = CostList[-2]-CostList[-1]\n",
    "        i+=1\n",
    "    \n",
    "    return CostList, i, beta "
   ]
  },
  {
   "cell_type": "code",
   "execution_count": 1300,
   "metadata": {},
   "outputs": [],
   "source": [
    "def Predict(X,Y,beta):\n",
    "    X=Feature_Scaling(X)\n",
    "    Y = Y.reshape(len(Y),1)\n",
    "    y_pred = np.dot(X,beta[1:]) + beta[0]\n",
    "    m=len(y_pred)\n",
    "    J = (1/(2*m)) * sum(np.square(y_pred-Y))\n",
    "    return J"
   ]
  },
  {
   "cell_type": "code",
   "execution_count": null,
   "metadata": {},
   "outputs": [],
   "source": []
  },
  {
   "cell_type": "code",
   "execution_count": null,
   "metadata": {},
   "outputs": [],
   "source": []
  },
  {
   "cell_type": "code",
   "execution_count": 527,
   "metadata": {},
   "outputs": [],
   "source": []
  },
  {
   "cell_type": "code",
   "execution_count": 530,
   "metadata": {},
   "outputs": [],
   "source": []
  },
  {
   "cell_type": "code",
   "execution_count": 546,
   "metadata": {},
   "outputs": [],
   "source": []
  },
  {
   "cell_type": "markdown",
   "metadata": {},
   "source": [
    "# Linear Regression"
   ]
  },
  {
   "cell_type": "code",
   "execution_count": 614,
   "metadata": {},
   "outputs": [
    {
     "name": "stdout",
     "output_type": "stream",
     "text": [
      "Number of Iterations:  553\n",
      "Cost after Convergence:  [93094.12109495]\n"
     ]
    },
    {
     "data": {
      "text/plain": [
       "[<matplotlib.lines.Line2D at 0x7ff1b399f110>]"
      ]
     },
     "execution_count": 614,
     "metadata": {},
     "output_type": "execute_result"
    },
    {
     "data": {
      "image/png": "[encoded data removed]",
      "text/plain": [
       "<Figure size 432x288 with 1 Axes>"
      ]
     },
     "metadata": {
      "needs_background": "light"
     },
     "output_type": "display_data"
    }
   ],
   "source": [
    "learning_rate=0.2\n",
    "convergence = 0.01\n",
    "\n",
    "CostList, Iterations, beta = GradientDescent(X_train, Y_train,learning_rate, convergence )\n",
    "\n",
    "print(\"Number of Iterations: \",Iterations)\n",
    "print(\"Cost after Convergence: \",CostList[-1])\n",
    "plt.plot(CostList)"
   ]
  },
  {
   "cell_type": "markdown",
   "metadata": {},
   "source": [
    "# Working with Different Learning rates"
   ]
  },
  {
   "cell_type": "code",
   "execution_count": 831,
   "metadata": {},
   "outputs": [
    {
     "name": "stdout",
     "output_type": "stream",
     "text": [
      "Number of Iterations:  2\n",
      "Cost after Convergence:  [390718.00987156]\n",
      "Number of Iterations:  2938\n",
      "Cost after Convergence:  [93089.57759916]\n",
      "Number of Iterations:  4913\n",
      "Cost after Convergence:  [93098.28654603]\n",
      "Number of Iterations:  22583\n",
      "Cost after Convergence:  [93105.92773491]\n"
     ]
    }
   ],
   "source": [
    "learning_rate = [1,0.1,0.01,0.001]\n",
    "convergence = 0.001\n",
    "All_Cost = []\n",
    "IterationList=[]\n",
    "TrainErrors=[]\n",
    "TestErrors =[]\n",
    "for alpha in learning_rate:\n",
    "    CostList, Iterations, beta = GradientDescent(X_train, Y_train,alpha,convergence)\n",
    "    All_Cost.append(CostList)\n",
    "    print(\"Number of Iterations: \",Iterations)\n",
    "    IterationList.append(Iterations)\n",
    "    print(\"Cost after Convergence: \",CostList[-1])\n",
    "    TrainErrors.append(CostList[-1])\n",
    "    \n",
    "    #Predicting with the beta values calculated\n",
    "    test_error=Predict(X_test,Y_test,beta)\n",
    "    TestErrors.append(test_error)"
   ]
  },
  {
   "cell_type": "code",
   "execution_count": 888,
   "metadata": {
    "scrolled": true
   },
   "outputs": [
    {
     "data": {
      "image/png": "[encoded data removed]",
      "text/plain": [
       "<Figure size 432x288 with 1 Axes>"
      ]
     },
     "metadata": {
      "needs_background": "light"
     },
     "output_type": "display_data"
    }
   ],
   "source": [
    "for i in range(len(learning_rate)):\n",
    "    plt.plot(All_Cost[i][:5000],label=\"Cost curve for a=\"+str(learning_rate[i]))\n",
    "\n",
    "plt.title(\"Cost Vs Iterations Plot [Linear Regression]\")\n",
    "plt.xlabel(\"Number of Iterations\")\n",
    "plt.ylabel(\"Cost\")\n",
    "plt.legend()\n",
    "plt.show()"
   ]
  },
  {
   "cell_type": "code",
   "execution_count": 860,
   "metadata": {},
   "outputs": [
    {
     "data": {
      "text/plain": [
       "[<matplotlib.lines.Line2D at 0x7ff1b4833d10>]"
      ]
     },
     "execution_count": 860,
     "metadata": {},
     "output_type": "execute_result"
    },
    {
     "data": {
      "image/png": "[encoded data removed]",
      "text/plain": [
       "<Figure size 432x288 with 1 Axes>"
      ]
     },
     "metadata": {
      "needs_background": "light"
     },
     "output_type": "display_data"
    }
   ],
   "source": [
    "plt.plot(learning_rate,IterationList)"
   ]
  },
  {
   "cell_type": "code",
   "execution_count": 859,
   "metadata": {},
   "outputs": [
    {
     "data": {
      "text/html": [
       "<div>\n",
       "<style scoped>\n",
       "    .dataframe tbody tr th:only-of-type {\n",
       "        vertical-align: middle;\n",
       "    }\n",
       "\n",
       "    .dataframe tbody tr th {\n",
       "        vertical-align: top;\n",
       "    }\n",
       "\n",
       "    .dataframe thead th {\n",
       "        text-align: right;\n",
       "    }\n",
       "</style>\n",
       "<table border=\"1\" class=\"dataframe\">\n",
       "  <thead>\n",
       "    <tr style=\"text-align: right;\">\n",
       "      <th></th>\n",
       "      <th>Learning Rate</th>\n",
       "      <th>Convergence Criteria</th>\n",
       "      <th>Iterations</th>\n",
       "      <th>Train Errors</th>\n",
       "      <th>Test Errors</th>\n",
       "    </tr>\n",
       "  </thead>\n",
       "  <tbody>\n",
       "    <tr>\n",
       "      <th>0</th>\n",
       "      <td>1.000</td>\n",
       "      <td>0.001</td>\n",
       "      <td>2</td>\n",
       "      <td>[390718.0098715635]</td>\n",
       "      <td>[376364.11771382403]</td>\n",
       "    </tr>\n",
       "    <tr>\n",
       "      <th>1</th>\n",
       "      <td>0.100</td>\n",
       "      <td>0.001</td>\n",
       "      <td>2938</td>\n",
       "      <td>[93089.57759916266]</td>\n",
       "      <td>[95354.6429903118]</td>\n",
       "    </tr>\n",
       "    <tr>\n",
       "      <th>2</th>\n",
       "      <td>0.010</td>\n",
       "      <td>0.001</td>\n",
       "      <td>4913</td>\n",
       "      <td>[93098.28654602937]</td>\n",
       "      <td>[95337.67542922079]</td>\n",
       "    </tr>\n",
       "    <tr>\n",
       "      <th>3</th>\n",
       "      <td>0.001</td>\n",
       "      <td>0.001</td>\n",
       "      <td>22583</td>\n",
       "      <td>[93105.92773490575]</td>\n",
       "      <td>[95353.23921918348]</td>\n",
       "    </tr>\n",
       "  </tbody>\n",
       "</table>\n",
       "</div>"
      ],
      "text/plain": [
       "   Learning Rate  Convergence Criteria  Iterations         Train Errors  \\\n",
       "0          1.000                 0.001           2  [390718.0098715635]   \n",
       "1          0.100                 0.001        2938  [93089.57759916266]   \n",
       "2          0.010                 0.001        4913  [93098.28654602937]   \n",
       "3          0.001                 0.001       22583  [93105.92773490575]   \n",
       "\n",
       "            Test Errors  \n",
       "0  [376364.11771382403]  \n",
       "1    [95354.6429903118]  \n",
       "2   [95337.67542922079]  \n",
       "3   [95353.23921918348]  "
      ]
     },
     "execution_count": 859,
     "metadata": {},
     "output_type": "execute_result"
    }
   ],
   "source": [
    "# For Table\n",
    "df = {\"Learning Rate\":learning_rate,\"Convergence Criteria\":convergence,\"Iterations\":IterationList,\"Train Errors\":TrainErrors,\"Test Errors\":TestErrors}\n",
    "table=pd.DataFrame(df) \n",
    "table"
   ]
  },
  {
   "cell_type": "markdown",
   "metadata": {},
   "source": [
    "# Working with different convergence values"
   ]
  },
  {
   "cell_type": "code",
   "execution_count": 964,
   "metadata": {},
   "outputs": [
    {
     "name": "stdout",
     "output_type": "stream",
     "text": [
      "Number of Iterations:  1410\n",
      "Cost after Convergence:  [93135.57196603]\n",
      "Number of Iterations:  2258\n",
      "Cost after Convergence:  [93105.9211269]\n",
      "Number of Iterations:  4913\n",
      "Cost after Convergence:  [93098.28654603]\n"
     ]
    }
   ],
   "source": [
    "learning_rate1 = 0.01\n",
    "convergence1 = [0.1,0.01,0.001]\n",
    "All_Cost1 = []\n",
    "IterationList1=[]\n",
    "TrainErrors1=[]\n",
    "TestErrors1 =[]\n",
    "for c in convergence1:\n",
    "    CostList1, Iterations1, beta1 = GradientDescent(X_train, Y_train,learning_rate1,c)\n",
    "    All_Cost1.append(CostList1)\n",
    "    print(\"Number of Iterations: \",Iterations1)\n",
    "    IterationList1.append(Iterations1)\n",
    "    print(\"Cost after Convergence: \",CostList1[-1])\n",
    "    TrainErrors1.append(CostList1[-1])\n",
    "    \n",
    "    #Predicting with the beta values calculated\n",
    "    test_error1=Predict(X_test,Y_test,beta1)\n",
    "    TestErrors1.append(test_error1)"
   ]
  },
  {
   "cell_type": "code",
   "execution_count": 1265,
   "metadata": {},
   "outputs": [
    {
     "data": {
      "text/html": [
       "<div>\n",
       "<style scoped>\n",
       "    .dataframe tbody tr th:only-of-type {\n",
       "        vertical-align: middle;\n",
       "    }\n",
       "\n",
       "    .dataframe tbody tr th {\n",
       "        vertical-align: top;\n",
       "    }\n",
       "\n",
       "    .dataframe thead th {\n",
       "        text-align: right;\n",
       "    }\n",
       "</style>\n",
       "<table border=\"1\" class=\"dataframe\">\n",
       "  <thead>\n",
       "    <tr style=\"text-align: right;\">\n",
       "      <th></th>\n",
       "      <th>Learning Rate</th>\n",
       "      <th>Convergence Threshold</th>\n",
       "      <th>Iterations</th>\n",
       "      <th>Train Errors</th>\n",
       "      <th>Test Errors</th>\n",
       "    </tr>\n",
       "  </thead>\n",
       "  <tbody>\n",
       "    <tr>\n",
       "      <th>0</th>\n",
       "      <td>0.01</td>\n",
       "      <td>0.100</td>\n",
       "      <td>1410</td>\n",
       "      <td>[93135.57196602893]</td>\n",
       "      <td>[95436.43371995896]</td>\n",
       "    </tr>\n",
       "    <tr>\n",
       "      <th>1</th>\n",
       "      <td>0.01</td>\n",
       "      <td>0.010</td>\n",
       "      <td>2258</td>\n",
       "      <td>[93105.92112689611]</td>\n",
       "      <td>[95353.19022505969]</td>\n",
       "    </tr>\n",
       "    <tr>\n",
       "      <th>2</th>\n",
       "      <td>0.01</td>\n",
       "      <td>0.001</td>\n",
       "      <td>4913</td>\n",
       "      <td>[93098.28654602937]</td>\n",
       "      <td>[95337.67542922078]</td>\n",
       "    </tr>\n",
       "  </tbody>\n",
       "</table>\n",
       "</div>"
      ],
      "text/plain": [
       "   Learning Rate  Convergence Threshold  Iterations         Train Errors  \\\n",
       "0           0.01                  0.100        1410  [93135.57196602893]   \n",
       "1           0.01                  0.010        2258  [93105.92112689611]   \n",
       "2           0.01                  0.001        4913  [93098.28654602937]   \n",
       "\n",
       "           Test Errors  \n",
       "0  [95436.43371995896]  \n",
       "1  [95353.19022505969]  \n",
       "2  [95337.67542922078]  "
      ]
     },
     "execution_count": 1265,
     "metadata": {},
     "output_type": "execute_result"
    }
   ],
   "source": [
    "# Learning rate = 0.01\n",
    "df1 = {\"Learning Rate\":learning_rate1,\"Convergence Threshold\":convergence1,\"Iterations\":IterationList1,\"Train Errors\":TrainErrors1,\"Test Errors\":TestErrors1}\n",
    "table1=pd.DataFrame(df1) \n",
    "table1"
   ]
  },
  {
   "cell_type": "code",
   "execution_count": 967,
   "metadata": {},
   "outputs": [
    {
     "data": {
      "image/png": "[encoded data removed]",
      "text/plain": [
       "<Figure size 432x288 with 1 Axes>"
      ]
     },
     "metadata": {
      "needs_background": "light"
     },
     "output_type": "display_data"
    }
   ],
   "source": [
    "#plt.plot(convergence1,IterationList1)\n",
    "plt.plot(IterationList1,convergence1)\n",
    "plt.title(\"Convergence Threshold Vs Iterations Plot [Linear Regression]\")\n",
    "plt.xlabel(\"Number of Iterations\")\n",
    "plt.ylabel(\"Convergence Threshold\")\n",
    "#plt.legend()\n",
    "plt.show()"
   ]
  },
  {
   "cell_type": "code",
   "execution_count": 1267,
   "metadata": {},
   "outputs": [
    {
     "data": {
      "image/png": "[encoded data removed]",
      "text/plain": [
       "<Figure size 432x288 with 1 Axes>"
      ]
     },
     "metadata": {
      "needs_background": "light"
     },
     "output_type": "display_data"
    }
   ],
   "source": [
    "# Plotting Threshold Vs Train and Test Errors\n",
    "plt.plot(convergence1,TrainErrors1, label =\"Train Error\")\n",
    "plt.plot(convergence1,TestErrors1, label =\"Test Error\")\n",
    "plt.title(\"Errors as a function of convergence threshold [Linear Regression]\")\n",
    "plt.ylabel(\"Errors\")\n",
    "plt.xlabel(\"Convergence Threshold\")\n",
    "plt.legend()\n",
    "plt.show()"
   ]
  },
  {
   "cell_type": "code",
   "execution_count": 1306,
   "metadata": {},
   "outputs": [],
   "source": [
    "# Picking the best threshold and plot train and test errors as a function of # iterations\n",
    "learning_rate1 = 0.01\n",
    "convergence1 = 0.001\n",
    "\n",
    "#Train Data\n",
    "CostList1, Iterations1, beta1 = GradientDescent(X_train, Y_train,learning_rate1,convergence1)\n",
    "\n",
    "# Test Data\n",
    "CostList2, Iterations2, beta2 = GradientDescent(X_test, Y_test,learning_rate1,convergence1)\n"
   ]
  },
  {
   "cell_type": "code",
   "execution_count": 1310,
   "metadata": {},
   "outputs": [
    {
     "data": {
      "text/plain": [
       "array([[ 0.50774916, -0.38874606,  0.18996015, ..., -0.58042598,\n",
       "        -0.23202281,  0.18254726],\n",
       "       [ 0.9408263 ,  1.29850393, -0.05608294, ..., -0.58042598,\n",
       "        -0.23202281,  0.18254726],\n",
       "       [-0.06968702,  1.42379477, -0.05608294, ..., -0.58042598,\n",
       "        -0.23202281,  0.18254726],\n",
       "       ...,\n",
       "       [-0.06968702,  1.05627497, -0.05608294, ..., -0.58042598,\n",
       "        -0.23202281,  0.18254726],\n",
       "       [-1.65763652, -0.38039334,  0.0423343 , ..., -0.58042598,\n",
       "        -0.23202281,  0.18254726],\n",
       "       [ 1.22954439, -0.48062601,  1.22334111, ..., -0.58042598,\n",
       "        -0.23202281,  0.18254726]])"
      ]
     },
     "execution_count": 1310,
     "metadata": {},
     "output_type": "execute_result"
    }
   ],
   "source": [
    "X_train"
   ]
  },
  {
   "cell_type": "code",
   "execution_count": 1307,
   "metadata": {},
   "outputs": [
    {
     "data": {
      "image/png": "[encoded data removed]",
      "text/plain": [
       "<Figure size 432x288 with 1 Axes>"
      ]
     },
     "metadata": {
      "needs_background": "light"
     },
     "output_type": "display_data"
    }
   ],
   "source": [
    "plt.plot(list(range(Iterations1)),CostList1,label=\"Train Errors\")\n",
    "plt.plot(list(range(Iterations2)),CostList2,label=\"Test Errors\")\n",
    "plt.title(\"Plotting Train and Test Errors as function of # iterations\")\n",
    "plt.xlabel(\"Number of Iterations\")\n",
    "plt.ylabel(\"Cost\")\n",
    "plt.legend()\n",
    "plt.show()"
   ]
  },
  {
   "cell_type": "markdown",
   "metadata": {},
   "source": [
    "# Picking 8 random features"
   ]
  },
  {
   "cell_type": "code",
   "execution_count": 1373,
   "metadata": {},
   "outputs": [
    {
     "data": {
      "text/plain": [
       "[2, 3, 6, 7, 8, 9, 12, 13]"
      ]
     },
     "execution_count": 1373,
     "metadata": {},
     "output_type": "execute_result"
    }
   ],
   "source": [
    "from random import randint,choice\n",
    "random_cols=[]\n",
    "seed(100)\n",
    "cols=list(data)\n",
    "for i in range(15):\n",
    "    selection = randint(1,15)\n",
    "    if(selection not in random_cols):\n",
    "        random_cols.append(selection)\n",
    "    if(len(random_cols)==8):\n",
    "        break  \n",
    "random_cols.sort()\n",
    "random_cols"
   ]
  },
  {
   "cell_type": "code",
   "execution_count": null,
   "metadata": {},
   "outputs": [],
   "source": []
  },
  {
   "cell_type": "code",
   "execution_count": 1467,
   "metadata": {},
   "outputs": [],
   "source": [
    "# Differentiating dependent and independent variables\n",
    "X8rf = data.iloc[:,random_cols].values\n",
    "Y8rf = data.iloc[:,0].values"
   ]
  },
  {
   "cell_type": "code",
   "execution_count": 1468,
   "metadata": {},
   "outputs": [],
   "source": [
    "from sklearn.model_selection import train_test_split\n",
    "X_train8rf, X_test8rf, Y_train8rf, Y_test8rf = train_test_split(X8rf,Y8rf,test_size=0.2,random_state=0)"
   ]
  },
  {
   "cell_type": "code",
   "execution_count": 1470,
   "metadata": {},
   "outputs": [],
   "source": [
    "# Running the linear regression with the best parameters from entire data\n",
    "learning_rate8rf = 0.01\n",
    "convergence8rf = 0.001\n",
    "\n",
    "#Train Data\n",
    "CostList8rf, Iterations8rf, beta8rf = GradientDescent(X_train8rf, Y_train8rf,learning_rate8rf,convergence8rf)\n",
    "#Predicting on Test Data\n",
    "test_error8rf=Predict(X_test8rf,Y_test8rf,beta8rf)"
   ]
  },
  {
   "cell_type": "code",
   "execution_count": 1471,
   "metadata": {},
   "outputs": [
    {
     "name": "stdout",
     "output_type": "stream",
     "text": [
      "Iterations: 24117\n",
      "Train Error: [124011.77726193]\n",
      "Test Error: [128190.05219587]\n"
     ]
    }
   ],
   "source": [
    "print(\"Iterations:\",Iterations8rf)\n",
    "print(\"Train Error:\",CostList8rf[-1])\n",
    "print(\"Test Error:\",test_error8rf)"
   ]
  },
  {
   "cell_type": "code",
   "execution_count": 1388,
   "metadata": {},
   "outputs": [
    {
     "name": "stdout",
     "output_type": "stream",
     "text": [
      "Iterations: 4913\n",
      "Train Error: [93098.28654603]\n",
      "Test Error: [95337.67542922]\n"
     ]
    }
   ],
   "source": [
    "# Running Linear Regression on entire data\n",
    "learning_rate_l = 0.01\n",
    "convergence_l = 0.001\n",
    "\n",
    "#Train Data\n",
    "CostList_l, Iterations_l, beta_l = GradientDescent(X_train, Y_train,learning_rate_l,convergence_l)\n",
    "print(\"Iterations:\",Iterations_l)\n",
    "print(\"Train Error:\",CostList_l[-1])\n",
    "#Predicting on Test Data\n",
    "test_error_l=Predict(X_test,Y_test,beta_l)\n",
    "print(\"Test Error:\",test_error_l)"
   ]
  },
  {
   "cell_type": "code",
   "execution_count": 1391,
   "metadata": {},
   "outputs": [
    {
     "data": {
      "image/png": "[encoded data removed]",
      "text/plain": [
       "<Figure size 432x288 with 1 Axes>"
      ]
     },
     "metadata": {
      "needs_background": "light"
     },
     "output_type": "display_data"
    }
   ],
   "source": [
    "# Train Error plot against iterations \n",
    "plt.plot(list(range(Iterations_l)),CostList_l,label=\"Train Errors with all feature\")\n",
    "plt.plot(list(range(Iterations8)),CostList8,label=\"Train Errors with 8 randomly selected features\")\n",
    "plt.title(\"Plotting Train Errors as function of # iterations\")\n",
    "plt.xlabel(\"Number of Iterations\")\n",
    "plt.ylabel(\"Cost\")\n",
    "plt.legend()\n",
    "plt.show()"
   ]
  },
  {
   "cell_type": "code",
   "execution_count": null,
   "metadata": {},
   "outputs": [],
   "source": [
    "# Test Error plot against iterations \n",
    "plt.plot(list(range(Iterations_l)),CostList_l,label=\"Train Errors with all feature\")\n",
    "plt.plot(list(range(Iterations8)),CostList8,label=\"Train Errors with 8 randomly selected features\")\n",
    "plt.title(\"Plotting Train Errors as function of # iterations\")\n",
    "plt.xlabel(\"Number of Iterations\")\n",
    "plt.ylabel(\"Cost\")\n",
    "plt.legend()\n",
    "plt.show()"
   ]
  },
  {
   "cell_type": "code",
   "execution_count": 1449,
   "metadata": {},
   "outputs": [
    {
     "data": {
      "text/plain": [
       "Text(0.5, 1.0, 'HeatMap for Linear Regression Data')"
      ]
     },
     "execution_count": 1449,
     "metadata": {},
     "output_type": "execute_result"
    },
    {
     "data": {
      "image/png": "[encoded data removed]",
      "text/plain": [
       "<Figure size 432x288 with 2 Axes>"
      ]
     },
     "metadata": {
      "needs_background": "light"
     },
     "output_type": "display_data"
    }
   ],
   "source": [
    "import seaborn as sns\n",
    "\n",
    "ax=data.corr()\n",
    "sns.heatmap(ax)\n",
    "plt.title(\"HeatMap for Linear Regression Data\", fontsize =15)"
   ]
  },
  {
   "cell_type": "markdown",
   "metadata": {},
   "source": [
    "# Best 8 features"
   ]
  },
  {
   "cell_type": "code",
   "execution_count": 1452,
   "metadata": {},
   "outputs": [],
   "source": [
    "# Differentiating dependent and independent variables\n",
    "X8a = data.iloc[:,[1,2,3,6,7,8,9,11]].values\n",
    "Y8a = data.iloc[:,0].values\n",
    "\n",
    "from sklearn.model_selection import train_test_split\n",
    "X_train8a, X_test8a, Y_train8a, Y_test8a = train_test_split(X8a,Y8a,test_size=0.2,random_state=0)"
   ]
  },
  {
   "cell_type": "code",
   "execution_count": 1453,
   "metadata": {},
   "outputs": [
    {
     "name": "stdout",
     "output_type": "stream",
     "text": [
      "Iterations: 2186\n",
      "Train Error: [108978.49212731]\n",
      "Test Error: [113610.0979379]\n"
     ]
    }
   ],
   "source": [
    "# Running Linear Regression on entire data\n",
    "learning_rate8a = 0.01\n",
    "convergence8a = 0.001\n",
    "\n",
    "#Train Data\n",
    "CostList8a, Iterations8a, beta8a = GradientDescent(X_train8a, Y_train8a,learning_rate8a,convergence8a)\n",
    "print(\"Iterations:\",Iterations8a)\n",
    "print(\"Train Error:\",CostList8a[-1])\n",
    "#Predicting on Test Data\n",
    "test_error8a=Predict(X_test8a,Y_test8a,beta8a)\n",
    "print(\"Test Error:\",test_error8a)"
   ]
  },
  {
   "cell_type": "code",
   "execution_count": 1473,
   "metadata": {},
   "outputs": [
    {
     "data": {
      "image/png": "[encoded data removed]",
      "text/plain": [
       "<Figure size 432x288 with 1 Axes>"
      ]
     },
     "metadata": {
      "needs_background": "light"
     },
     "output_type": "display_data"
    }
   ],
   "source": [
    "# Test Error plot against iterations \n",
    "plt.plot(list(range(Iterations_l)),CostList_l,label=\"Train Errors with all feature\")\n",
    "plt.plot(list(range(Iterations8rf)),CostList8,label=\"Train Errors with 8 best features\")\n",
    "plt.title(\"Plotting Train Errors as function of # iterations\")\n",
    "plt.xlabel(\"Number of Iterations\")\n",
    "plt.ylabel(\"Cost\")\n",
    "plt.legend()\n",
    "plt.show()"
   ]
  },
  {
   "cell_type": "markdown",
   "metadata": {},
   "source": [
    "# Logistic Regression"
   ]
  },
  {
   "cell_type": "code",
   "execution_count": 1397,
   "metadata": {},
   "outputs": [],
   "source": [
    "from math import log as log\n",
    "from math import exp as exp\n",
    "import copy"
   ]
  },
  {
   "cell_type": "code",
   "execution_count": 1406,
   "metadata": {},
   "outputs": [],
   "source": [
    "data2 = copy.deepcopy(data)"
   ]
  },
  {
   "cell_type": "code",
   "execution_count": 1407,
   "metadata": {},
   "outputs": [],
   "source": [
    "DayLight=[]\n",
    "for hour in data[\"Hour\"]:\n",
    "    if (hour>5 and hour<19):\n",
    "        DayLight.append(1)\n",
    "    else:\n",
    "        DayLight.append(0)\n",
    "        \n",
    "data2[\"DayLight\"] = DayLight\n",
    "del data2[\"Hour\"]"
   ]
  },
  {
   "cell_type": "code",
   "execution_count": 1408,
   "metadata": {},
   "outputs": [
    {
     "data": {
      "text/html": [
       "<div>\n",
       "<style scoped>\n",
       "    .dataframe tbody tr th:only-of-type {\n",
       "        vertical-align: middle;\n",
       "    }\n",
       "\n",
       "    .dataframe tbody tr th {\n",
       "        vertical-align: top;\n",
       "    }\n",
       "\n",
       "    .dataframe thead th {\n",
       "        text-align: right;\n",
       "    }\n",
       "</style>\n",
       "<table border=\"1\" class=\"dataframe\">\n",
       "  <thead>\n",
       "    <tr style=\"text-align: right;\">\n",
       "      <th></th>\n",
       "      <th>Rented Bike Count</th>\n",
       "      <th>Temperature(°C)</th>\n",
       "      <th>Humidity(%)</th>\n",
       "      <th>Wind speed (m/s)</th>\n",
       "      <th>Visibility (10m)</th>\n",
       "      <th>Dew point temperature(°C)</th>\n",
       "      <th>Solar Radiation (MJ/m2)</th>\n",
       "      <th>Rainfall(mm)</th>\n",
       "      <th>Snowfall (cm)</th>\n",
       "      <th>Seasons_Spring</th>\n",
       "      <th>Seasons_Summer</th>\n",
       "      <th>Seasons_Autumn</th>\n",
       "      <th>Holiday_Dummy</th>\n",
       "      <th>FunctioningDay</th>\n",
       "      <th>DayLight</th>\n",
       "    </tr>\n",
       "  </thead>\n",
       "  <tbody>\n",
       "    <tr>\n",
       "      <th>0</th>\n",
       "      <td>254</td>\n",
       "      <td>-5.2</td>\n",
       "      <td>37</td>\n",
       "      <td>2.2</td>\n",
       "      <td>2000</td>\n",
       "      <td>-17.6</td>\n",
       "      <td>0.0</td>\n",
       "      <td>0.0</td>\n",
       "      <td>0.0</td>\n",
       "      <td>0</td>\n",
       "      <td>0</td>\n",
       "      <td>0</td>\n",
       "      <td>0</td>\n",
       "      <td>1</td>\n",
       "      <td>0</td>\n",
       "    </tr>\n",
       "    <tr>\n",
       "      <th>1</th>\n",
       "      <td>204</td>\n",
       "      <td>-5.5</td>\n",
       "      <td>38</td>\n",
       "      <td>0.8</td>\n",
       "      <td>2000</td>\n",
       "      <td>-17.6</td>\n",
       "      <td>0.0</td>\n",
       "      <td>0.0</td>\n",
       "      <td>0.0</td>\n",
       "      <td>0</td>\n",
       "      <td>0</td>\n",
       "      <td>0</td>\n",
       "      <td>0</td>\n",
       "      <td>1</td>\n",
       "      <td>0</td>\n",
       "    </tr>\n",
       "    <tr>\n",
       "      <th>2</th>\n",
       "      <td>173</td>\n",
       "      <td>-6.0</td>\n",
       "      <td>39</td>\n",
       "      <td>1.0</td>\n",
       "      <td>2000</td>\n",
       "      <td>-17.7</td>\n",
       "      <td>0.0</td>\n",
       "      <td>0.0</td>\n",
       "      <td>0.0</td>\n",
       "      <td>0</td>\n",
       "      <td>0</td>\n",
       "      <td>0</td>\n",
       "      <td>0</td>\n",
       "      <td>1</td>\n",
       "      <td>0</td>\n",
       "    </tr>\n",
       "    <tr>\n",
       "      <th>3</th>\n",
       "      <td>107</td>\n",
       "      <td>-6.2</td>\n",
       "      <td>40</td>\n",
       "      <td>0.9</td>\n",
       "      <td>2000</td>\n",
       "      <td>-17.6</td>\n",
       "      <td>0.0</td>\n",
       "      <td>0.0</td>\n",
       "      <td>0.0</td>\n",
       "      <td>0</td>\n",
       "      <td>0</td>\n",
       "      <td>0</td>\n",
       "      <td>0</td>\n",
       "      <td>1</td>\n",
       "      <td>0</td>\n",
       "    </tr>\n",
       "    <tr>\n",
       "      <th>4</th>\n",
       "      <td>78</td>\n",
       "      <td>-6.0</td>\n",
       "      <td>36</td>\n",
       "      <td>2.3</td>\n",
       "      <td>2000</td>\n",
       "      <td>-18.6</td>\n",
       "      <td>0.0</td>\n",
       "      <td>0.0</td>\n",
       "      <td>0.0</td>\n",
       "      <td>0</td>\n",
       "      <td>0</td>\n",
       "      <td>0</td>\n",
       "      <td>0</td>\n",
       "      <td>1</td>\n",
       "      <td>0</td>\n",
       "    </tr>\n",
       "    <tr>\n",
       "      <th>...</th>\n",
       "      <td>...</td>\n",
       "      <td>...</td>\n",
       "      <td>...</td>\n",
       "      <td>...</td>\n",
       "      <td>...</td>\n",
       "      <td>...</td>\n",
       "      <td>...</td>\n",
       "      <td>...</td>\n",
       "      <td>...</td>\n",
       "      <td>...</td>\n",
       "      <td>...</td>\n",
       "      <td>...</td>\n",
       "      <td>...</td>\n",
       "      <td>...</td>\n",
       "      <td>...</td>\n",
       "    </tr>\n",
       "    <tr>\n",
       "      <th>8755</th>\n",
       "      <td>1003</td>\n",
       "      <td>4.2</td>\n",
       "      <td>34</td>\n",
       "      <td>2.6</td>\n",
       "      <td>1894</td>\n",
       "      <td>-10.3</td>\n",
       "      <td>0.0</td>\n",
       "      <td>0.0</td>\n",
       "      <td>0.0</td>\n",
       "      <td>0</td>\n",
       "      <td>0</td>\n",
       "      <td>1</td>\n",
       "      <td>0</td>\n",
       "      <td>1</td>\n",
       "      <td>0</td>\n",
       "    </tr>\n",
       "    <tr>\n",
       "      <th>8756</th>\n",
       "      <td>764</td>\n",
       "      <td>3.4</td>\n",
       "      <td>37</td>\n",
       "      <td>2.3</td>\n",
       "      <td>2000</td>\n",
       "      <td>-9.9</td>\n",
       "      <td>0.0</td>\n",
       "      <td>0.0</td>\n",
       "      <td>0.0</td>\n",
       "      <td>0</td>\n",
       "      <td>0</td>\n",
       "      <td>1</td>\n",
       "      <td>0</td>\n",
       "      <td>1</td>\n",
       "      <td>0</td>\n",
       "    </tr>\n",
       "    <tr>\n",
       "      <th>8757</th>\n",
       "      <td>694</td>\n",
       "      <td>2.6</td>\n",
       "      <td>39</td>\n",
       "      <td>0.3</td>\n",
       "      <td>1968</td>\n",
       "      <td>-9.9</td>\n",
       "      <td>0.0</td>\n",
       "      <td>0.0</td>\n",
       "      <td>0.0</td>\n",
       "      <td>0</td>\n",
       "      <td>0</td>\n",
       "      <td>1</td>\n",
       "      <td>0</td>\n",
       "      <td>1</td>\n",
       "      <td>0</td>\n",
       "    </tr>\n",
       "    <tr>\n",
       "      <th>8758</th>\n",
       "      <td>712</td>\n",
       "      <td>2.1</td>\n",
       "      <td>41</td>\n",
       "      <td>1.0</td>\n",
       "      <td>1859</td>\n",
       "      <td>-9.8</td>\n",
       "      <td>0.0</td>\n",
       "      <td>0.0</td>\n",
       "      <td>0.0</td>\n",
       "      <td>0</td>\n",
       "      <td>0</td>\n",
       "      <td>1</td>\n",
       "      <td>0</td>\n",
       "      <td>1</td>\n",
       "      <td>0</td>\n",
       "    </tr>\n",
       "    <tr>\n",
       "      <th>8759</th>\n",
       "      <td>584</td>\n",
       "      <td>1.9</td>\n",
       "      <td>43</td>\n",
       "      <td>1.3</td>\n",
       "      <td>1909</td>\n",
       "      <td>-9.3</td>\n",
       "      <td>0.0</td>\n",
       "      <td>0.0</td>\n",
       "      <td>0.0</td>\n",
       "      <td>0</td>\n",
       "      <td>0</td>\n",
       "      <td>1</td>\n",
       "      <td>0</td>\n",
       "      <td>1</td>\n",
       "      <td>0</td>\n",
       "    </tr>\n",
       "  </tbody>\n",
       "</table>\n",
       "<p>8760 rows × 15 columns</p>\n",
       "</div>"
      ],
      "text/plain": [
       "      Rented Bike Count  Temperature(°C)  Humidity(%)  Wind speed (m/s)  \\\n",
       "0                   254             -5.2           37               2.2   \n",
       "1                   204             -5.5           38               0.8   \n",
       "2                   173             -6.0           39               1.0   \n",
       "3                   107             -6.2           40               0.9   \n",
       "4                    78             -6.0           36               2.3   \n",
       "...                 ...              ...          ...               ...   \n",
       "8755               1003              4.2           34               2.6   \n",
       "8756                764              3.4           37               2.3   \n",
       "8757                694              2.6           39               0.3   \n",
       "8758                712              2.1           41               1.0   \n",
       "8759                584              1.9           43               1.3   \n",
       "\n",
       "      Visibility (10m)  Dew point temperature(°C)  Solar Radiation (MJ/m2)  \\\n",
       "0                 2000                      -17.6                      0.0   \n",
       "1                 2000                      -17.6                      0.0   \n",
       "2                 2000                      -17.7                      0.0   \n",
       "3                 2000                      -17.6                      0.0   \n",
       "4                 2000                      -18.6                      0.0   \n",
       "...                ...                        ...                      ...   \n",
       "8755              1894                      -10.3                      0.0   \n",
       "8756              2000                       -9.9                      0.0   \n",
       "8757              1968                       -9.9                      0.0   \n",
       "8758              1859                       -9.8                      0.0   \n",
       "8759              1909                       -9.3                      0.0   \n",
       "\n",
       "      Rainfall(mm)  Snowfall (cm)  Seasons_Spring  Seasons_Summer  \\\n",
       "0              0.0            0.0               0               0   \n",
       "1              0.0            0.0               0               0   \n",
       "2              0.0            0.0               0               0   \n",
       "3              0.0            0.0               0               0   \n",
       "4              0.0            0.0               0               0   \n",
       "...            ...            ...             ...             ...   \n",
       "8755           0.0            0.0               0               0   \n",
       "8756           0.0            0.0               0               0   \n",
       "8757           0.0            0.0               0               0   \n",
       "8758           0.0            0.0               0               0   \n",
       "8759           0.0            0.0               0               0   \n",
       "\n",
       "      Seasons_Autumn  Holiday_Dummy  FunctioningDay  DayLight  \n",
       "0                  0              0               1         0  \n",
       "1                  0              0               1         0  \n",
       "2                  0              0               1         0  \n",
       "3                  0              0               1         0  \n",
       "4                  0              0               1         0  \n",
       "...              ...            ...             ...       ...  \n",
       "8755               1              0               1         0  \n",
       "8756               1              0               1         0  \n",
       "8757               1              0               1         0  \n",
       "8758               1              0               1         0  \n",
       "8759               1              0               1         0  \n",
       "\n",
       "[8760 rows x 15 columns]"
      ]
     },
     "execution_count": 1408,
     "metadata": {},
     "output_type": "execute_result"
    }
   ],
   "source": [
    "data2"
   ]
  },
  {
   "cell_type": "code",
   "execution_count": 1409,
   "metadata": {},
   "outputs": [],
   "source": [
    "# Differentiating dependent and independent variables\n",
    "X = data2.iloc[:,:-1].values\n",
    "Y = data2.iloc[:,-1].values"
   ]
  },
  {
   "cell_type": "code",
   "execution_count": 1410,
   "metadata": {},
   "outputs": [],
   "source": [
    "from sklearn.model_selection import train_test_split\n",
    "X_train, X_test, Y_train, Y_test = train_test_split(X,Y,test_size=0.2,random_state=0)"
   ]
  },
  {
   "cell_type": "code",
   "execution_count": 1411,
   "metadata": {},
   "outputs": [],
   "source": [
    "def Logistic_Cost_Function(beta,X,Y):\n",
    "    epsilon = 1e-7  # Adding epsilon as a constant value to the value inside log to avoid making it absolute Zero and preventing Runtime Error\n",
    "    J =0 \n",
    "    m = len(Y)\n",
    "    y_pred = 1/(1+np.exp(-(np.dot(X,beta))))\n",
    "    J = (-1/m)*np.sum((Y*np.log(y_pred+epsilon))+((1-Y)*np.log(1-y_pred+epsilon)))\n",
    "    return J"
   ]
  },
  {
   "cell_type": "code",
   "execution_count": 1412,
   "metadata": {},
   "outputs": [],
   "source": [
    "def Logistic_GradientDescent(X_train, Y_train , learning_rate, convergence):\n",
    "    \n",
    "    #Feature_Scaling(X_train)\n",
    "    \n",
    "    np.random.seed(100)\n",
    "    beta = (np.random.sample(len(X_train[0])+1)*10).reshape(len(X_train[0])+1,1)\n",
    "    L = learning_rate\n",
    "    old_cost=0\n",
    "    Convergence_Criteria =1\n",
    "    #convergence = 0.01\n",
    "    CostList=[]\n",
    "\n",
    "    one_column = np.ones((X_train.shape[0],1))\n",
    "    X = np.concatenate((one_column, X_train), axis = 1)\n",
    "   \n",
    "    Y = Y_train.reshape(len(Y_train),1)\n",
    "    m = len(Y)\n",
    "    \n",
    "    i=0\n",
    "    \n",
    "    while(Convergence_Criteria>convergence):\n",
    "    #for i in range (1):\n",
    "        y_pred = 1/(1+np.exp((-1)*(np.dot(X,beta)))) # 7008x1 | Y=7008x1 # 1+np.exp((-1)*(b[0]+ np.dot(b[1:],x)))\n",
    "        \n",
    "        for j in range(X.shape[1]): #range = 0 to 15 [number of variables]\n",
    "            beta[j] = beta[j] - (L/m) * sum((y_pred - Y) * X.T[j].reshape(len(X.T[1]),1)) # Changing X shape into 7008X1\n",
    "\n",
    "        #print(y_pred)\n",
    "        cost = Logistic_Cost_Function(beta,X,Y)\n",
    "        CostList.append(cost)\n",
    "        if(len(CostList)>1):\n",
    "            Convergence_Criteria = CostList[-2]-CostList[-1]\n",
    "        i+=1\n",
    "        #print(\"Convergence_Criteria: \",Convergence_Criteria)\n",
    "\n",
    "    #print(\"Number of Iterations: \",i)\n",
    "    \n",
    "    return CostList, i, beta "
   ]
  },
  {
   "cell_type": "code",
   "execution_count": 1413,
   "metadata": {},
   "outputs": [],
   "source": [
    "def Logistic_Predict(X,Y,beta):\n",
    "    epsilon = 1e-7  \n",
    "    X=Feature_Scaling(X)\n",
    "    Y = Y.reshape(len(Y),1)\n",
    "    y_pred = 1/(1+np.exp(-(np.dot(X,beta[1:])+beta[0])))\n",
    "    m=len(y_pred)\n",
    "    J = (-1/m)*sum((Y*np.log(y_pred+epsilon))+((1-Y)*np.log(1-y_pred+epsilon)))\n",
    "    return J"
   ]
  },
  {
   "cell_type": "markdown",
   "metadata": {},
   "source": [
    "# Working with Learning rates"
   ]
  },
  {
   "cell_type": "code",
   "execution_count": 1231,
   "metadata": {},
   "outputs": [
    {
     "name": "stdout",
     "output_type": "stream",
     "text": [
      "Number of Iterations:  988\n",
      "Cost after Convergence:  0.31559586772965365\n",
      "Number of Iterations:  522\n",
      "Cost after Convergence:  0.31163345950422977\n",
      "Number of Iterations:  362\n",
      "Cost after Convergence:  0.3099475866447624\n"
     ]
    }
   ],
   "source": [
    "learning_rate_lg = [0.1, 0.2, 0.3]\n",
    "convergence_lg = 0.0001\n",
    "All_Cost_lg = []\n",
    "IterationList_lg=[]\n",
    "TrainErrors_lg=[]\n",
    "TestErrors_lg =[]\n",
    "Feature_Scaling(X_train)\n",
    "for alpha in learning_rate_lg:\n",
    "    CostList, Iterations, beta = Logistic_GradientDescent(X_train, Y_train,alpha,convergence_lg)\n",
    "    All_Cost_lg.append(CostList)\n",
    "    print(\"Number of Iterations: \",Iterations)\n",
    "    IterationList_lg.append(Iterations)\n",
    "    print(\"Cost after Convergence: \",CostList[-1])\n",
    "    TrainErrors_lg.append(CostList[-1])\n",
    "    \n",
    "    #Predicting with the beta values calculated\n",
    "    test_error=Logistic_Predict(X_test,Y_test,beta)\n",
    "    TestErrors_lg.append(test_error)"
   ]
  },
  {
   "cell_type": "code",
   "execution_count": 1239,
   "metadata": {},
   "outputs": [
    {
     "data": {
      "image/png": "[encoded data removed]",
      "text/plain": [
       "<Figure size 432x288 with 1 Axes>"
      ]
     },
     "metadata": {
      "needs_background": "light"
     },
     "output_type": "display_data"
    }
   ],
   "source": [
    "for i in range(len(learning_rate_lg)):\n",
    "    plt.plot(All_Cost_lg[i],label=\"Cost curve for a=\"+str(learning_rate_lg[i]))\n",
    "\n",
    "plt.title(\"Cost Vs Iterations Plot[Logistic Regression]\")\n",
    "plt.xlabel(\"Number of Iterations\")\n",
    "plt.ylabel(\"Cost\")\n",
    "plt.legend()\n",
    "plt.show()"
   ]
  },
  {
   "cell_type": "code",
   "execution_count": 1237,
   "metadata": {},
   "outputs": [],
   "source": [
    "df_lg = {\"Learning Rate\":learning_rate_lg,\"Convergence Threshold\":convergence_lg,\"Iterations\":IterationList_lg,\"Train Errors\":TrainErrors_lg,\"Test Errors\":TestErrors_lg}\n",
    "table_lg=pd.DataFrame(df_lg) \n"
   ]
  },
  {
   "cell_type": "code",
   "execution_count": 1238,
   "metadata": {},
   "outputs": [
    {
     "data": {
      "text/html": [
       "<div>\n",
       "<style scoped>\n",
       "    .dataframe tbody tr th:only-of-type {\n",
       "        vertical-align: middle;\n",
       "    }\n",
       "\n",
       "    .dataframe tbody tr th {\n",
       "        vertical-align: top;\n",
       "    }\n",
       "\n",
       "    .dataframe thead th {\n",
       "        text-align: right;\n",
       "    }\n",
       "</style>\n",
       "<table border=\"1\" class=\"dataframe\">\n",
       "  <thead>\n",
       "    <tr style=\"text-align: right;\">\n",
       "      <th></th>\n",
       "      <th>Learning Rate</th>\n",
       "      <th>Convergence Threshold</th>\n",
       "      <th>Iterations</th>\n",
       "      <th>Train Errors</th>\n",
       "      <th>Test Errors</th>\n",
       "    </tr>\n",
       "  </thead>\n",
       "  <tbody>\n",
       "    <tr>\n",
       "      <th>0</th>\n",
       "      <td>0.1</td>\n",
       "      <td>0.0001</td>\n",
       "      <td>988</td>\n",
       "      <td>0.315596</td>\n",
       "      <td>[0.3044293855706163]</td>\n",
       "    </tr>\n",
       "    <tr>\n",
       "      <th>1</th>\n",
       "      <td>0.2</td>\n",
       "      <td>0.0001</td>\n",
       "      <td>522</td>\n",
       "      <td>0.311633</td>\n",
       "      <td>[0.3013100373024061]</td>\n",
       "    </tr>\n",
       "    <tr>\n",
       "      <th>2</th>\n",
       "      <td>0.3</td>\n",
       "      <td>0.0001</td>\n",
       "      <td>362</td>\n",
       "      <td>0.309948</td>\n",
       "      <td>[0.300169029552984]</td>\n",
       "    </tr>\n",
       "  </tbody>\n",
       "</table>\n",
       "</div>"
      ],
      "text/plain": [
       "   Learning Rate  Convergence Threshold  Iterations  Train Errors  \\\n",
       "0            0.1                 0.0001         988      0.315596   \n",
       "1            0.2                 0.0001         522      0.311633   \n",
       "2            0.3                 0.0001         362      0.309948   \n",
       "\n",
       "            Test Errors  \n",
       "0  [0.3044293855706163]  \n",
       "1  [0.3013100373024061]  \n",
       "2   [0.300169029552984]  "
      ]
     },
     "execution_count": 1238,
     "metadata": {},
     "output_type": "execute_result"
    }
   ],
   "source": [
    "table_lg"
   ]
  },
  {
   "cell_type": "markdown",
   "metadata": {},
   "source": [
    "# Working with Different Convergence levels"
   ]
  },
  {
   "cell_type": "code",
   "execution_count": 1247,
   "metadata": {},
   "outputs": [
    {
     "name": "stdout",
     "output_type": "stream",
     "text": [
      "Convergence Criteria:  0.1\n",
      "Number of Iterations:  2\n",
      "Cost after Convergence:  5.3768618093509195\n",
      "Convergence Criteria:  0.01\n",
      "Number of Iterations:  113\n",
      "Cost after Convergence:  0.9405119271821545\n",
      "Convergence Criteria:  0.001\n",
      "Number of Iterations:  293\n",
      "Cost after Convergence:  0.33789829020534795\n",
      "Convergence Criteria:  0.0001\n",
      "Number of Iterations:  362\n",
      "Cost after Convergence:  0.3099475866447624\n"
     ]
    }
   ],
   "source": [
    "learning_rate_lg1 = 0.3\n",
    "convergence_lg1 = [0.1,0.01,0.001,0.0001]\n",
    "All_Cost_lg1 = []\n",
    "IterationList_lg1=[]\n",
    "TrainErrors_lg1=[]\n",
    "TestErrors_lg1 =[]\n",
    "for convergence_lg1 in convergence_lg1:\n",
    "    print(\"Convergence Criteria: \",convergence_lg1)\n",
    "    CostList, Iterations, beta = Logistic_GradientDescent(X_train, Y_train,learning_rate_lg1,convergence_lg1)\n",
    "    All_Cost_lg1.append(CostList)\n",
    "    print(\"Number of Iterations: \",Iterations)\n",
    "    IterationList_lg1.append(Iterations)\n",
    "    print(\"Cost after Convergence: \",CostList[-1])\n",
    "    TrainErrors_lg1.append(CostList[-1])\n",
    "    \n",
    "    #Predicting with the beta values calculated\n",
    "    test_error=Logistic_Predict(X_test,Y_test,beta)\n",
    "    TestErrors_lg1.append(test_error)"
   ]
  },
  {
   "cell_type": "code",
   "execution_count": 1259,
   "metadata": {},
   "outputs": [
    {
     "data": {
      "text/html": [
       "<div>\n",
       "<style scoped>\n",
       "    .dataframe tbody tr th:only-of-type {\n",
       "        vertical-align: middle;\n",
       "    }\n",
       "\n",
       "    .dataframe tbody tr th {\n",
       "        vertical-align: top;\n",
       "    }\n",
       "\n",
       "    .dataframe thead th {\n",
       "        text-align: right;\n",
       "    }\n",
       "</style>\n",
       "<table border=\"1\" class=\"dataframe\">\n",
       "  <thead>\n",
       "    <tr style=\"text-align: right;\">\n",
       "      <th></th>\n",
       "      <th>Learning Rate</th>\n",
       "      <th>Convergence Threshold</th>\n",
       "      <th>Iterations</th>\n",
       "      <th>Train Errors</th>\n",
       "      <th>Test Errors</th>\n",
       "    </tr>\n",
       "  </thead>\n",
       "  <tbody>\n",
       "    <tr>\n",
       "      <th>0</th>\n",
       "      <td>0.3</td>\n",
       "      <td>0.1000</td>\n",
       "      <td>2</td>\n",
       "      <td>5.376862</td>\n",
       "      <td>[5.552838521408217]</td>\n",
       "    </tr>\n",
       "    <tr>\n",
       "      <th>1</th>\n",
       "      <td>0.3</td>\n",
       "      <td>0.0100</td>\n",
       "      <td>113</td>\n",
       "      <td>0.940512</td>\n",
       "      <td>[0.8876389133516024]</td>\n",
       "    </tr>\n",
       "    <tr>\n",
       "      <th>2</th>\n",
       "      <td>0.3</td>\n",
       "      <td>0.0010</td>\n",
       "      <td>293</td>\n",
       "      <td>0.337898</td>\n",
       "      <td>[0.32425823337794996]</td>\n",
       "    </tr>\n",
       "    <tr>\n",
       "      <th>3</th>\n",
       "      <td>0.3</td>\n",
       "      <td>0.0001</td>\n",
       "      <td>362</td>\n",
       "      <td>0.309948</td>\n",
       "      <td>[0.300169029552984]</td>\n",
       "    </tr>\n",
       "  </tbody>\n",
       "</table>\n",
       "</div>"
      ],
      "text/plain": [
       "   Learning Rate  Convergence Threshold  Iterations  Train Errors  \\\n",
       "0            0.3                 0.1000           2      5.376862   \n",
       "1            0.3                 0.0100         113      0.940512   \n",
       "2            0.3                 0.0010         293      0.337898   \n",
       "3            0.3                 0.0001         362      0.309948   \n",
       "\n",
       "             Test Errors  \n",
       "0    [5.552838521408217]  \n",
       "1   [0.8876389133516024]  \n",
       "2  [0.32425823337794996]  \n",
       "3    [0.300169029552984]  "
      ]
     },
     "execution_count": 1259,
     "metadata": {},
     "output_type": "execute_result"
    }
   ],
   "source": [
    "df_lg1 = {\"Learning Rate\":learning_rate_lg1,\"Convergence Threshold\":[0.1,0.01,0.001,0.0001],\"Iterations\":IterationList_lg1,\"Train Errors\":TrainErrors_lg1,\"Test Errors\":TestErrors_lg1}\n",
    "pd.DataFrame(df_lg1) "
   ]
  },
  {
   "cell_type": "code",
   "execution_count": 1258,
   "metadata": {},
   "outputs": [
    {
     "data": {
      "image/png": "[encoded data removed]",
      "text/plain": [
       "<Figure size 432x288 with 1 Axes>"
      ]
     },
     "metadata": {
      "needs_background": "light"
     },
     "output_type": "display_data"
    }
   ],
   "source": [
    "#plt.plot(convergence1,IterationList1)\n",
    "plt.plot(IterationList_lg1,[0.1,0.01,0.001,0.0001])\n",
    "plt.title(\"Convergence Threshold Vs Iterations Plot [Logistic Regression]\")\n",
    "plt.xlabel(\"Number of Iterations\")\n",
    "plt.ylabel(\"Convergence Threshold\")\n",
    "#plt.legend()\n",
    "plt.show()"
   ]
  },
  {
   "cell_type": "code",
   "execution_count": 1264,
   "metadata": {},
   "outputs": [
    {
     "data": {
      "image/png": "[encoded data removed]",
      "text/plain": [
       "<Figure size 432x288 with 1 Axes>"
      ]
     },
     "metadata": {
      "needs_background": "light"
     },
     "output_type": "display_data"
    }
   ],
   "source": [
    "# Plotting Threshold Vs Train and Test Errors\n",
    "plt.plot([0.1,0.01,0.001,0.0001],TrainErrors_lg1, label =\"Train Error\")\n",
    "plt.plot([0.1,0.01,0.001,0.0001],TestErrors_lg1, label =\"Test Error\")\n",
    "plt.title(\"Errors as a function of convergence threshold [Logistic Regression]\")\n",
    "plt.ylabel(\"Errors\")\n",
    "plt.xlabel(\"Convergence Threshold\")\n",
    "plt.legend()\n",
    "plt.show()"
   ]
  },
  {
   "cell_type": "markdown",
   "metadata": {},
   "source": [
    "# 8 randomly picked features"
   ]
  },
  {
   "cell_type": "code",
   "execution_count": 1414,
   "metadata": {},
   "outputs": [],
   "source": [
    "# Running the logistic regression with the best parameters from entire data\n",
    "learning_rate_l = 0.3\n",
    "convergence_l = 0.0001\n",
    "Feature_Scaling(X_train)\n",
    "#Train Data\n",
    "CostList_l, Iterations_l, beta_l = Logistic_GradientDescent(X_train, Y_train,learning_rate_l,convergence_l)\n",
    "#Predicting on Test Data\n",
    "test_error_l=Logistic_Predict(X_test,Y_test,beta_l)"
   ]
  },
  {
   "cell_type": "code",
   "execution_count": 1416,
   "metadata": {},
   "outputs": [
    {
     "name": "stdout",
     "output_type": "stream",
     "text": [
      "Iterations: 362\n",
      "Train Error: 0.3099475866447624\n",
      "Test Error: [0.30016903]\n"
     ]
    }
   ],
   "source": [
    "print(\"Iterations:\",Iterations_l)\n",
    "print(\"Train Error:\",CostList_l[-1])\n",
    "print(\"Test Error:\",test_error_l)"
   ]
  },
  {
   "cell_type": "code",
   "execution_count": 1436,
   "metadata": {},
   "outputs": [],
   "source": [
    "random_cols_l=[]\n",
    "for i in range (8):\n",
    "    random_cols_l.append(random_cols[i]-1)\n",
    "    \n",
    "# Differentiating dependent and independent variables\n",
    "X8l = data2.iloc[:,random_cols_l].values\n",
    "Y8l = data2.iloc[:,-1].values"
   ]
  },
  {
   "cell_type": "code",
   "execution_count": 1437,
   "metadata": {},
   "outputs": [],
   "source": [
    "from sklearn.model_selection import train_test_split\n",
    "X_train8l, X_test8l, Y_train8l, Y_test8l = train_test_split(X8l,Y8l,test_size=0.2,random_state=0)"
   ]
  },
  {
   "cell_type": "code",
   "execution_count": 1438,
   "metadata": {},
   "outputs": [
    {
     "name": "stdout",
     "output_type": "stream",
     "text": [
      "Iterations: 1907\n",
      "Train Error: 1.5756855974769777\n",
      "Test Error: [1.51350817]\n"
     ]
    }
   ],
   "source": [
    "# Running the logistic regression with the best parameters from 8 features\n",
    "learning_rate8_l = 0.01\n",
    "convergence8_l = 0.001\n",
    "Feature_Scaling(X_train8l)\n",
    "#Train Data\n",
    "CostList8_l, Iterations8_l, beta8_l = Logistic_GradientDescent(X_train8l, Y_train8l,learning_rate8_l,convergence8_l)\n",
    "#Predicting on Test Data\n",
    "test_error8_l=Logistic_Predict(X_test8l,Y_test8l,beta8_l)\n",
    "\n",
    "print(\"Iterations:\",Iterations8_l)\n",
    "print(\"Train Error:\",CostList8_l[-1])\n",
    "print(\"Test Error:\",test_error8_l)"
   ]
  },
  {
   "cell_type": "code",
   "execution_count": 1439,
   "metadata": {},
   "outputs": [
    {
     "data": {
      "image/png": "[encoded data removed]",
      "text/plain": [
       "<Figure size 432x288 with 1 Axes>"
      ]
     },
     "metadata": {
      "needs_background": "light"
     },
     "output_type": "display_data"
    }
   ],
   "source": [
    "# Test Error plot against iterations \n",
    "plt.plot(list(range(Iterations_l)),CostList_l,label=\"Train Errors with all feature\")\n",
    "plt.plot(list(range(Iterations8_l)),CostList8_l,label=\"Train Errors with 8 randomly selected features\")\n",
    "plt.title(\"Plotting Train Errors as function of # iterations\")\n",
    "plt.xlabel(\"Number of Iterations\")\n",
    "plt.ylabel(\"Cost\")\n",
    "plt.legend()\n",
    "plt.show()"
   ]
  },
  {
   "cell_type": "code",
   "execution_count": 1441,
   "metadata": {},
   "outputs": [
    {
     "data": {
      "text/html": [
       "<div>\n",
       "<style scoped>\n",
       "    .dataframe tbody tr th:only-of-type {\n",
       "        vertical-align: middle;\n",
       "    }\n",
       "\n",
       "    .dataframe tbody tr th {\n",
       "        vertical-align: top;\n",
       "    }\n",
       "\n",
       "    .dataframe thead th {\n",
       "        text-align: right;\n",
       "    }\n",
       "</style>\n",
       "<table border=\"1\" class=\"dataframe\">\n",
       "  <thead>\n",
       "    <tr style=\"text-align: right;\">\n",
       "      <th></th>\n",
       "      <th>Rented Bike Count</th>\n",
       "      <th>Temperature(°C)</th>\n",
       "      <th>Humidity(%)</th>\n",
       "      <th>Wind speed (m/s)</th>\n",
       "      <th>Visibility (10m)</th>\n",
       "      <th>Dew point temperature(°C)</th>\n",
       "      <th>Solar Radiation (MJ/m2)</th>\n",
       "      <th>Rainfall(mm)</th>\n",
       "      <th>Snowfall (cm)</th>\n",
       "      <th>Seasons_Spring</th>\n",
       "      <th>Seasons_Summer</th>\n",
       "      <th>Seasons_Autumn</th>\n",
       "      <th>Holiday_Dummy</th>\n",
       "      <th>FunctioningDay</th>\n",
       "      <th>DayLight</th>\n",
       "    </tr>\n",
       "  </thead>\n",
       "  <tbody>\n",
       "    <tr>\n",
       "      <th>0</th>\n",
       "      <td>254</td>\n",
       "      <td>-5.2</td>\n",
       "      <td>37</td>\n",
       "      <td>2.2</td>\n",
       "      <td>2000</td>\n",
       "      <td>-17.6</td>\n",
       "      <td>0.0</td>\n",
       "      <td>0.0</td>\n",
       "      <td>0.0</td>\n",
       "      <td>0</td>\n",
       "      <td>0</td>\n",
       "      <td>0</td>\n",
       "      <td>0</td>\n",
       "      <td>1</td>\n",
       "      <td>0</td>\n",
       "    </tr>\n",
       "    <tr>\n",
       "      <th>1</th>\n",
       "      <td>204</td>\n",
       "      <td>-5.5</td>\n",
       "      <td>38</td>\n",
       "      <td>0.8</td>\n",
       "      <td>2000</td>\n",
       "      <td>-17.6</td>\n",
       "      <td>0.0</td>\n",
       "      <td>0.0</td>\n",
       "      <td>0.0</td>\n",
       "      <td>0</td>\n",
       "      <td>0</td>\n",
       "      <td>0</td>\n",
       "      <td>0</td>\n",
       "      <td>1</td>\n",
       "      <td>0</td>\n",
       "    </tr>\n",
       "    <tr>\n",
       "      <th>2</th>\n",
       "      <td>173</td>\n",
       "      <td>-6.0</td>\n",
       "      <td>39</td>\n",
       "      <td>1.0</td>\n",
       "      <td>2000</td>\n",
       "      <td>-17.7</td>\n",
       "      <td>0.0</td>\n",
       "      <td>0.0</td>\n",
       "      <td>0.0</td>\n",
       "      <td>0</td>\n",
       "      <td>0</td>\n",
       "      <td>0</td>\n",
       "      <td>0</td>\n",
       "      <td>1</td>\n",
       "      <td>0</td>\n",
       "    </tr>\n",
       "    <tr>\n",
       "      <th>3</th>\n",
       "      <td>107</td>\n",
       "      <td>-6.2</td>\n",
       "      <td>40</td>\n",
       "      <td>0.9</td>\n",
       "      <td>2000</td>\n",
       "      <td>-17.6</td>\n",
       "      <td>0.0</td>\n",
       "      <td>0.0</td>\n",
       "      <td>0.0</td>\n",
       "      <td>0</td>\n",
       "      <td>0</td>\n",
       "      <td>0</td>\n",
       "      <td>0</td>\n",
       "      <td>1</td>\n",
       "      <td>0</td>\n",
       "    </tr>\n",
       "    <tr>\n",
       "      <th>4</th>\n",
       "      <td>78</td>\n",
       "      <td>-6.0</td>\n",
       "      <td>36</td>\n",
       "      <td>2.3</td>\n",
       "      <td>2000</td>\n",
       "      <td>-18.6</td>\n",
       "      <td>0.0</td>\n",
       "      <td>0.0</td>\n",
       "      <td>0.0</td>\n",
       "      <td>0</td>\n",
       "      <td>0</td>\n",
       "      <td>0</td>\n",
       "      <td>0</td>\n",
       "      <td>1</td>\n",
       "      <td>0</td>\n",
       "    </tr>\n",
       "    <tr>\n",
       "      <th>...</th>\n",
       "      <td>...</td>\n",
       "      <td>...</td>\n",
       "      <td>...</td>\n",
       "      <td>...</td>\n",
       "      <td>...</td>\n",
       "      <td>...</td>\n",
       "      <td>...</td>\n",
       "      <td>...</td>\n",
       "      <td>...</td>\n",
       "      <td>...</td>\n",
       "      <td>...</td>\n",
       "      <td>...</td>\n",
       "      <td>...</td>\n",
       "      <td>...</td>\n",
       "      <td>...</td>\n",
       "    </tr>\n",
       "    <tr>\n",
       "      <th>8755</th>\n",
       "      <td>1003</td>\n",
       "      <td>4.2</td>\n",
       "      <td>34</td>\n",
       "      <td>2.6</td>\n",
       "      <td>1894</td>\n",
       "      <td>-10.3</td>\n",
       "      <td>0.0</td>\n",
       "      <td>0.0</td>\n",
       "      <td>0.0</td>\n",
       "      <td>0</td>\n",
       "      <td>0</td>\n",
       "      <td>1</td>\n",
       "      <td>0</td>\n",
       "      <td>1</td>\n",
       "      <td>0</td>\n",
       "    </tr>\n",
       "    <tr>\n",
       "      <th>8756</th>\n",
       "      <td>764</td>\n",
       "      <td>3.4</td>\n",
       "      <td>37</td>\n",
       "      <td>2.3</td>\n",
       "      <td>2000</td>\n",
       "      <td>-9.9</td>\n",
       "      <td>0.0</td>\n",
       "      <td>0.0</td>\n",
       "      <td>0.0</td>\n",
       "      <td>0</td>\n",
       "      <td>0</td>\n",
       "      <td>1</td>\n",
       "      <td>0</td>\n",
       "      <td>1</td>\n",
       "      <td>0</td>\n",
       "    </tr>\n",
       "    <tr>\n",
       "      <th>8757</th>\n",
       "      <td>694</td>\n",
       "      <td>2.6</td>\n",
       "      <td>39</td>\n",
       "      <td>0.3</td>\n",
       "      <td>1968</td>\n",
       "      <td>-9.9</td>\n",
       "      <td>0.0</td>\n",
       "      <td>0.0</td>\n",
       "      <td>0.0</td>\n",
       "      <td>0</td>\n",
       "      <td>0</td>\n",
       "      <td>1</td>\n",
       "      <td>0</td>\n",
       "      <td>1</td>\n",
       "      <td>0</td>\n",
       "    </tr>\n",
       "    <tr>\n",
       "      <th>8758</th>\n",
       "      <td>712</td>\n",
       "      <td>2.1</td>\n",
       "      <td>41</td>\n",
       "      <td>1.0</td>\n",
       "      <td>1859</td>\n",
       "      <td>-9.8</td>\n",
       "      <td>0.0</td>\n",
       "      <td>0.0</td>\n",
       "      <td>0.0</td>\n",
       "      <td>0</td>\n",
       "      <td>0</td>\n",
       "      <td>1</td>\n",
       "      <td>0</td>\n",
       "      <td>1</td>\n",
       "      <td>0</td>\n",
       "    </tr>\n",
       "    <tr>\n",
       "      <th>8759</th>\n",
       "      <td>584</td>\n",
       "      <td>1.9</td>\n",
       "      <td>43</td>\n",
       "      <td>1.3</td>\n",
       "      <td>1909</td>\n",
       "      <td>-9.3</td>\n",
       "      <td>0.0</td>\n",
       "      <td>0.0</td>\n",
       "      <td>0.0</td>\n",
       "      <td>0</td>\n",
       "      <td>0</td>\n",
       "      <td>1</td>\n",
       "      <td>0</td>\n",
       "      <td>1</td>\n",
       "      <td>0</td>\n",
       "    </tr>\n",
       "  </tbody>\n",
       "</table>\n",
       "<p>8760 rows × 15 columns</p>\n",
       "</div>"
      ],
      "text/plain": [
       "      Rented Bike Count  Temperature(°C)  Humidity(%)  Wind speed (m/s)  \\\n",
       "0                   254             -5.2           37               2.2   \n",
       "1                   204             -5.5           38               0.8   \n",
       "2                   173             -6.0           39               1.0   \n",
       "3                   107             -6.2           40               0.9   \n",
       "4                    78             -6.0           36               2.3   \n",
       "...                 ...              ...          ...               ...   \n",
       "8755               1003              4.2           34               2.6   \n",
       "8756                764              3.4           37               2.3   \n",
       "8757                694              2.6           39               0.3   \n",
       "8758                712              2.1           41               1.0   \n",
       "8759                584              1.9           43               1.3   \n",
       "\n",
       "      Visibility (10m)  Dew point temperature(°C)  Solar Radiation (MJ/m2)  \\\n",
       "0                 2000                      -17.6                      0.0   \n",
       "1                 2000                      -17.6                      0.0   \n",
       "2                 2000                      -17.7                      0.0   \n",
       "3                 2000                      -17.6                      0.0   \n",
       "4                 2000                      -18.6                      0.0   \n",
       "...                ...                        ...                      ...   \n",
       "8755              1894                      -10.3                      0.0   \n",
       "8756              2000                       -9.9                      0.0   \n",
       "8757              1968                       -9.9                      0.0   \n",
       "8758              1859                       -9.8                      0.0   \n",
       "8759              1909                       -9.3                      0.0   \n",
       "\n",
       "      Rainfall(mm)  Snowfall (cm)  Seasons_Spring  Seasons_Summer  \\\n",
       "0              0.0            0.0               0               0   \n",
       "1              0.0            0.0               0               0   \n",
       "2              0.0            0.0               0               0   \n",
       "3              0.0            0.0               0               0   \n",
       "4              0.0            0.0               0               0   \n",
       "...            ...            ...             ...             ...   \n",
       "8755           0.0            0.0               0               0   \n",
       "8756           0.0            0.0               0               0   \n",
       "8757           0.0            0.0               0               0   \n",
       "8758           0.0            0.0               0               0   \n",
       "8759           0.0            0.0               0               0   \n",
       "\n",
       "      Seasons_Autumn  Holiday_Dummy  FunctioningDay  DayLight  \n",
       "0                  0              0               1         0  \n",
       "1                  0              0               1         0  \n",
       "2                  0              0               1         0  \n",
       "3                  0              0               1         0  \n",
       "4                  0              0               1         0  \n",
       "...              ...            ...             ...       ...  \n",
       "8755               1              0               1         0  \n",
       "8756               1              0               1         0  \n",
       "8757               1              0               1         0  \n",
       "8758               1              0               1         0  \n",
       "8759               1              0               1         0  \n",
       "\n",
       "[8760 rows x 15 columns]"
      ]
     },
     "execution_count": 1441,
     "metadata": {},
     "output_type": "execute_result"
    }
   ],
   "source": [
    "data2"
   ]
  },
  {
   "cell_type": "markdown",
   "metadata": {},
   "source": [
    "# Best 8 features"
   ]
  },
  {
   "cell_type": "code",
   "execution_count": 1456,
   "metadata": {},
   "outputs": [
    {
     "data": {
      "text/plain": [
       "Text(0.5, 1.0, 'HeatMap for Logistic Regression Data')"
      ]
     },
     "execution_count": 1456,
     "metadata": {},
     "output_type": "execute_result"
    },
    {
     "data": {
      "image/png": "[encoded data removed]",
      "text/plain": [
       "<Figure size 432x288 with 2 Axes>"
      ]
     },
     "metadata": {
      "needs_background": "light"
     },
     "output_type": "display_data"
    }
   ],
   "source": [
    "import seaborn as sns\n",
    "ax=data2.corr()\n",
    "sns.heatmap(ax)\n",
    "plt.title(\"HeatMap for Logistic Regression Data\", fontsize =15)"
   ]
  },
  {
   "cell_type": "code",
   "execution_count": 1458,
   "metadata": {},
   "outputs": [],
   "source": [
    "# Differentiating dependent and independent variables\n",
    "X8bf = data2.iloc[:,[0,1,2,3,4,5,6,13]].values\n",
    "Y8bf = data2.iloc[:,-1].values\n",
    "\n",
    "from sklearn.model_selection import train_test_split\n",
    "X_train8bf, X_test8bf, Y_train8bf, Y_test8bf = train_test_split(X8bf,Y8bf,test_size=0.2,random_state=0)"
   ]
  },
  {
   "cell_type": "code",
   "execution_count": 1459,
   "metadata": {},
   "outputs": [
    {
     "name": "stdout",
     "output_type": "stream",
     "text": [
      "Iterations: 1779\n",
      "Train Error: 0.8258802397604774\n",
      "Test Error: [0.82921912]\n"
     ]
    }
   ],
   "source": [
    "# Running the logistic regression with the best parameters from 8 features\n",
    "learning_rate8bf = 0.01\n",
    "convergence8bf = 0.001\n",
    "Feature_Scaling(X_train8bf)\n",
    "#Train Data\n",
    "CostList8bf, Iterations8bf, beta8bf = Logistic_GradientDescent(X_train8bf, Y_train8bf,learning_rate8bf,convergence8bf)\n",
    "#Predicting on Test Data\n",
    "test_error8bf=Logistic_Predict(X_test8bf,Y_test8bf,beta8bf)\n",
    "\n",
    "print(\"Iterations:\",Iterations8bf)\n",
    "print(\"Train Error:\",CostList8bf[-1])\n",
    "print(\"Test Error:\",test_error8bf)"
   ]
  },
  {
   "cell_type": "code",
   "execution_count": 1460,
   "metadata": {},
   "outputs": [
    {
     "data": {
      "image/png": "[encoded data removed]",
      "text/plain": [
       "<Figure size 432x288 with 1 Axes>"
      ]
     },
     "metadata": {
      "needs_background": "light"
     },
     "output_type": "display_data"
    }
   ],
   "source": [
    "plt.plot(list(range(Iterations_l)),CostList_l,label=\"Train Errors with all feature\")\n",
    "plt.plot(list(range(Iterations8_l)),CostList8_l,label=\"Train Errors with 8 randomly selected features\")\n",
    "plt.plot(list(range(Iterations8bf)),CostList8bf,label=\"Train Errors with 8 best features\")\n",
    "plt.title(\"Plotting Train Errors as function of # iterations\")\n",
    "plt.xlabel(\"Number of Iterations\")\n",
    "plt.ylabel(\"Cost\")\n",
    "plt.legend()\n",
    "plt.show()"
   ]
  },
  {
   "cell_type": "markdown",
   "metadata": {},
   "source": []
  },
  {
   "cell_type": "code",
   "execution_count": null,
   "metadata": {},
   "outputs": [],
   "source": []
  },
  {
   "cell_type": "code",
   "execution_count": null,
   "metadata": {},
   "outputs": [],
   "source": []
  }
 ],
 "metadata": {
  "kernelspec": {
   "display_name": "Python 3",
   "language": "python",
   "name": "python3"
  },
  "language_info": {
   "codemirror_mode": {
    "name": "ipython",
    "version": 3
   },
   "file_extension": ".py",
   "mimetype": "text/x-python",
   "name": "python",
   "nbconvert_exporter": "python",
   "pygments_lexer": "ipython3",
   "version": "3.7.6"
  }
 },
 "nbformat": 4,
 "nbformat_minor": 4
}
